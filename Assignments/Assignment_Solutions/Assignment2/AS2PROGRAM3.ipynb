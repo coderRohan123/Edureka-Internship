{
 "cells": [
  {
   "cell_type": "markdown",
   "id": "0eeba08a",
   "metadata": {},
   "source": [
    "# PROGRAM3\n",
    "\n"
   ]
  },
  {
   "cell_type": "code",
   "execution_count": 2,
   "id": "ec5e6285",
   "metadata": {},
   "outputs": [
    {
     "data": {
      "text/plain": [
       "0           1\n",
       "1           2\n",
       "2           3\n",
       "3           4\n",
       "4           5\n",
       "        ...  \n",
       "9995     9996\n",
       "9996     9997\n",
       "9997     9998\n",
       "9998     9999\n",
       "9999    10000\n",
       "Length: 10000, dtype: int32"
      ]
     },
     "execution_count": 2,
     "metadata": {},
     "output_type": "execute_result"
    }
   ],
   "source": [
    "import pandas as pd\n",
    "import numpy as np\n",
    "\n",
    "t=np.arange(1,10001)\n",
    "a=pd.Series(t)\n",
    "a"
   ]
  },
  {
   "cell_type": "code",
   "execution_count": 27,
   "id": "c518b9af",
   "metadata": {},
   "outputs": [
    {
     "name": "stdout",
     "output_type": "stream",
     "text": [
      "118    119\n",
      "237    238\n",
      "356    357\n",
      "475    476\n",
      "594    595\n",
      "713    714\n",
      "832    833\n",
      "951    952\n"
     ]
    }
   ],
   "source": [
    "for i in range(0,1000):\n",
    "    if(a[i]%7==0 and a[i]%17==0):\n",
    "        print(i,\"  \",a[i])"
   ]
  },
  {
   "cell_type": "code",
   "execution_count": null,
   "id": "6c1c97ea",
   "metadata": {},
   "outputs": [],
   "source": []
  }
 ],
 "metadata": {
  "kernelspec": {
   "display_name": "Python 3 (ipykernel)",
   "language": "python",
   "name": "python3"
  },
  "language_info": {
   "codemirror_mode": {
    "name": "ipython",
    "version": 3
   },
   "file_extension": ".py",
   "mimetype": "text/x-python",
   "name": "python",
   "nbconvert_exporter": "python",
   "pygments_lexer": "ipython3",
   "version": "3.9.12"
  }
 },
 "nbformat": 4,
 "nbformat_minor": 5
}

{
 "cells": [
  {
   "cell_type": "markdown",
   "id": "e8752662",
   "metadata": {},
   "source": [
    "# PROGRAM2\n"
   ]
  },
  {
   "cell_type": "code",
   "execution_count": 1,
   "id": "e6d7b0b6",
   "metadata": {},
   "outputs": [
    {
     "name": "stdout",
     "output_type": "stream",
     "text": [
      "English                  {'Sam': 60, 'Jackson': 74, 'Ahree': 85}\n",
      "History        {'Gloria': 83, 'Sam': 65, 'Isla': 78, 'Aron': ...\n",
      "Geography      {'Jackson': 92, 'Gloria': 95, 'Isla': 82, 'Aro...\n",
      "Mathematics    {'Sam': 99, 'Gloria': 74, 'Jackson': 89, 'Ahre...\n",
      "Science        {'Sam': 89, 'Aron': 82, 'Gray': 78, 'Isla': 93...\n",
      "dtype: object\n"
     ]
    }
   ],
   "source": [
    "import numpy as np\n",
    "import pandas as pd\n",
    "\n",
    "data={'English':{'Sam':60,'Jackson':74,'Ahree':85},\n",
    "'History':{'Gloria':83,'Sam':65,'Isla':78,'Aron':72,'Gray':61\n",
    "},'Geography':{'Jackson':92,'Gloria':95,'Isla':82,'Aron':75,'Ahree':76},\n",
    "      'Mathematics':{'Sam':99,'Gloria':74,'Jackson':89,'Ahree':85,'Gray':95},\n",
    "'Science':{'Sam':89,'Aron':82,'Gray':78,'Isla':93,'Ahree':87}}\n",
    "print(pd.Series(data))"
   ]
  },
  {
   "cell_type": "code",
   "execution_count": 12,
   "id": "8490d1c2",
   "metadata": {},
   "outputs": [
    {
     "name": "stdout",
     "output_type": "stream",
     "text": [
      "         English  History  Geography  Mathematics  Science\n",
      "Sam         60.0     65.0        0.0         99.0     89.0\n",
      "Jackson     74.0      0.0       92.0         89.0      0.0\n",
      "Ahree       85.0      0.0       76.0         85.0     87.0\n",
      "Gloria       0.0     83.0       95.0         74.0      0.0\n",
      "Isla         0.0     78.0       82.0          0.0     93.0\n",
      "Aron         0.0     72.0       75.0          0.0     82.0\n",
      "Gray         0.0     61.0        0.0         95.0     78.0\n"
     ]
    }
   ],
   "source": [
    "g=pd.DataFrame(data,columns=['English','History','Geography','Mathematics','Science'])\n",
    "print(g.fillna(0))"
   ]
  },
  {
   "cell_type": "code",
   "execution_count": 13,
   "id": "063d3940",
   "metadata": {},
   "outputs": [
    {
     "name": "stdout",
     "output_type": "stream",
     "text": [
      "              Sam  Jackson  Ahree  Gloria  Isla  Aron  Gray  Average\n",
      "English      60.0     74.0   85.0     0.0   0.0   0.0   0.0    219.0\n",
      "History      65.0      0.0    0.0    83.0  78.0  72.0  61.0    359.0\n",
      "Geography     0.0     92.0   76.0    95.0  82.0  75.0   0.0    420.0\n",
      "Mathematics  99.0     89.0   85.0    74.0   0.0   0.0  95.0    442.0\n",
      "Science      89.0      0.0   87.0     0.0  93.0  82.0  78.0    429.0\n"
     ]
    }
   ],
   "source": [
    "p=g.T.fillna(0)\n",
    "p['Average']=p['Sam']+p['Jackson']+p['Ahree']+p['Gloria']+p['Isla']+p['Aron']+p['Gray']\n",
    "print(p)"
   ]
  },
  {
   "cell_type": "code",
   "execution_count": null,
   "id": "3d5eef09",
   "metadata": {},
   "outputs": [],
   "source": []
  }
 ],
 "metadata": {
  "kernelspec": {
   "display_name": "Python 3 (ipykernel)",
   "language": "python",
   "name": "python3"
  },
  "language_info": {
   "codemirror_mode": {
    "name": "ipython",
    "version": 3
   },
   "file_extension": ".py",
   "mimetype": "text/x-python",
   "name": "python",
   "nbconvert_exporter": "python",
   "pygments_lexer": "ipython3",
   "version": "3.9.12"
  }
 },
 "nbformat": 4,
 "nbformat_minor": 5
}

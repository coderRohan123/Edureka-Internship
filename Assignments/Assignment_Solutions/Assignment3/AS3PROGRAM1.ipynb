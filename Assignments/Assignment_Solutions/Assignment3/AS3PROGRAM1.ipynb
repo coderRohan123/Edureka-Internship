{
 "cells": [
  {
   "cell_type": "markdown",
   "id": "7e435a7f",
   "metadata": {},
   "source": [
    "# ASSIGNMENT 3\n",
    "#PROGRAM 1\n",
    "\n",
    "\n",
    "import numpy as np\n",
    "import pandas as pd\n",
    "import math\n",
    "from scipy import stats\n"
   ]
  },
  {
   "cell_type": "code",
   "execution_count": 3,
   "id": "275a7214",
   "metadata": {},
   "outputs": [
    {
     "data": {
      "text/plain": [
       "array([0.9637415 , 0.20039626, 0.67248269, 0.12058807, 0.80911636,\n",
       "       0.76405038, 0.01126666, 0.357481  , 0.1343382 , 0.90564926,\n",
       "       0.87244251, 0.9091042 , 0.5678616 , 0.39887118, 0.33246707,\n",
       "       0.43307178, 0.97072831, 0.26927224, 0.01157733, 0.23547777,\n",
       "       0.247737  , 0.61491822, 0.59293563, 0.53483127, 0.88733183,\n",
       "       0.68001448, 0.87809398, 0.49677541, 0.9290637 , 0.92733582,\n",
       "       0.07857915, 0.76686127, 0.1580078 , 0.33530162, 0.12316588,\n",
       "       0.59076507, 0.53555693, 0.5073795 , 0.1718071 , 0.60693477,\n",
       "       0.11125503, 0.22348865, 0.04928585, 0.61530126, 0.84779738,\n",
       "       0.16537727, 0.12585024, 0.56454434, 0.46813816, 0.36816886,\n",
       "       0.26626047, 0.39567694, 0.07631512, 0.9188296 , 0.01502077,\n",
       "       0.63598486, 0.61392013, 0.41818139, 0.133945  , 0.62598833,\n",
       "       0.24042823, 0.12500523, 0.57988015, 0.86355138, 0.2295279 ,\n",
       "       0.40146491, 0.05426558, 0.43161135, 0.50957927, 0.12390576,\n",
       "       0.15472474, 0.54956839, 0.79214412, 0.36723833, 0.85310114,\n",
       "       0.59625243, 0.11750267, 0.11493269, 0.82272231, 0.34197666,\n",
       "       0.54371221, 0.1287351 , 0.63026069, 0.33244175, 0.44016932,\n",
       "       0.11912384, 0.55192706, 0.10774067, 0.94664624, 0.4779483 ,\n",
       "       0.83949141, 0.18255968, 0.76108135, 0.46505725, 0.8439175 ,\n",
       "       0.50608939, 0.38753264, 0.47261945, 0.41624681, 0.41637014,\n",
       "       0.93194244, 0.4379085 , 0.49614132, 0.21737328, 0.04457875,\n",
       "       0.90079608, 0.78515653, 0.84684093, 0.81844033, 0.44102101,\n",
       "       0.80660896, 0.31844372, 0.34510169, 0.38458502, 0.72546685,\n",
       "       0.32319211, 0.92632193, 0.88216166, 0.70352835, 0.5286202 ,\n",
       "       0.29412447, 0.14550106, 0.60306935, 0.02598791, 0.15761612,\n",
       "       0.57146222, 0.39876915, 0.13592853, 0.20905704, 0.28281508,\n",
       "       0.08619144, 0.23682981, 0.97612048, 0.51144694, 0.16662551,\n",
       "       0.15693694, 0.19885465, 0.38680181, 0.58716778, 0.23966462,\n",
       "       0.7894308 , 0.05130857, 0.73526626, 0.13084165, 0.440171  ,\n",
       "       0.13022762, 0.01875594, 0.85860638, 0.77256088, 0.48938158,\n",
       "       0.33432439, 0.7897252 , 0.82669687, 0.61911241, 0.39209156,\n",
       "       0.94106117, 0.11500512, 0.04066638, 0.10409113, 0.75767915,\n",
       "       0.94296928, 0.95257581, 0.65204626, 0.37597823, 0.06126636,\n",
       "       0.41008756, 0.15204315, 0.03281421, 0.1984741 , 0.91677158,\n",
       "       0.57072072, 0.54445202, 0.93755896, 0.61131163, 0.73341077,\n",
       "       0.2775896 , 0.08951451, 0.77399204, 0.25616799, 0.22521273,\n",
       "       0.14744975, 0.18672178, 0.63783692, 0.31677667, 0.29435621,\n",
       "       0.89058709, 0.30748865, 0.01160985, 0.39075039, 0.02411658,\n",
       "       0.74139447, 0.62009745, 0.19514914, 0.00388252, 0.80978318,\n",
       "       0.55444888, 0.53091377, 0.11641803, 0.98986983, 0.10012348])"
      ]
     },
     "execution_count": 3,
     "metadata": {},
     "output_type": "execute_result"
    }
   ],
   "source": [
    "x=np.random.sample(200)\n",
    "x"
   ]
  },
  {
   "cell_type": "code",
   "execution_count": 4,
   "id": "f0461815",
   "metadata": {},
   "outputs": [
    {
     "name": "stdout",
     "output_type": "stream",
     "text": [
      "satisfied customrers:120\n"
     ]
    }
   ],
   "source": [
    "n=int(input(\"satisfied customrers:\"))\n"
   ]
  },
  {
   "cell_type": "code",
   "execution_count": 5,
   "id": "d37c40aa",
   "metadata": {},
   "outputs": [
    {
     "data": {
      "text/plain": [
       "0.4561935061209889"
      ]
     },
     "execution_count": 5,
     "metadata": {},
     "output_type": "execute_result"
    }
   ],
   "source": [
    "samplesiz=200\n",
    "samplemean=x.mean()\n",
    "samplemean"
   ]
  },
  {
   "cell_type": "code",
   "execution_count": 7,
   "id": "93b3222e",
   "metadata": {},
   "outputs": [
    {
     "data": {
      "text/plain": [
       "1.2815515655446004"
      ]
     },
     "execution_count": 7,
     "metadata": {},
     "output_type": "execute_result"
    }
   ],
   "source": [
    "criticalval=stats.norm.ppf(q=0.90)\n",
    "pop=x.std()\n",
    "merror=criticalval*(pop/math.sqrt(samplesiz))\n",
    "criticalval\n"
   ]
  },
  {
   "cell_type": "code",
   "execution_count": 8,
   "id": "b605e219",
   "metadata": {},
   "outputs": [
    {
     "data": {
      "text/plain": [
       "0.29022832529200826"
      ]
     },
     "execution_count": 8,
     "metadata": {},
     "output_type": "execute_result"
    }
   ],
   "source": [
    "pop\n"
   ]
  },
  {
   "cell_type": "code",
   "execution_count": 9,
   "id": "2ead8834",
   "metadata": {},
   "outputs": [
    {
     "data": {
      "text/plain": [
       "0.026300310967123614"
      ]
     },
     "execution_count": 9,
     "metadata": {},
     "output_type": "execute_result"
    }
   ],
   "source": [
    "merror"
   ]
  },
  {
   "cell_type": "code",
   "execution_count": 11,
   "id": "5302a84e",
   "metadata": {},
   "outputs": [
    {
     "data": {
      "text/plain": [
       "(0.4298931951538653, 0.4824938170881125)"
      ]
     },
     "execution_count": 11,
     "metadata": {},
     "output_type": "execute_result"
    }
   ],
   "source": [
    "confidence=(samplemean-merror,samplemean+merror)\n",
    "confidence"
   ]
  },
  {
   "cell_type": "code",
   "execution_count": null,
   "id": "b0de6a01",
   "metadata": {},
   "outputs": [],
   "source": []
  }
 ],
 "metadata": {
  "kernelspec": {
   "display_name": "Python 3 (ipykernel)",
   "language": "python",
   "name": "python3"
  },
  "language_info": {
   "codemirror_mode": {
    "name": "ipython",
    "version": 3
   },
   "file_extension": ".py",
   "mimetype": "text/x-python",
   "name": "python",
   "nbconvert_exporter": "python",
   "pygments_lexer": "ipython3",
   "version": "3.9.12"
  }
 },
 "nbformat": 4,
 "nbformat_minor": 5
}

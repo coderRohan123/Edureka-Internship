{
 "cells": [
  {
   "cell_type": "code",
   "execution_count": 1,
   "id": "5945055e",
   "metadata": {},
   "outputs": [
    {
     "name": "stdout",
     "output_type": "stream",
     "text": [
      "1 2 3 4 5 6 7 8 9\n",
      "1 1 1 1 1 1 1 1 1 \n",
      "[[0 1 2]\n",
      " [3 4 5]\n",
      " [6 7 8]]\n"
     ]
    }
   ],
   "source": [
    "#PROGRAM4\n",
    "import numpy as np\n",
    "a=list(map(int,input().split()))\n",
    "b=list(map(int,input().split()))\n",
    "c=np.array(a).reshape(3,3)\n",
    "d=np.array(b).reshape(3,3)\n",
    "print(c-d)"
   ]
  },
  {
   "cell_type": "code",
   "execution_count": null,
   "id": "8cc2d18c",
   "metadata": {},
   "outputs": [],
   "source": []
  }
 ],
 "metadata": {
  "kernelspec": {
   "display_name": "Python 3 (ipykernel)",
   "language": "python",
   "name": "python3"
  },
  "language_info": {
   "codemirror_mode": {
    "name": "ipython",
    "version": 3
   },
   "file_extension": ".py",
   "mimetype": "text/x-python",
   "name": "python",
   "nbconvert_exporter": "python",
   "pygments_lexer": "ipython3",
   "version": "3.9.12"
  }
 },
 "nbformat": 4,
 "nbformat_minor": 5
}

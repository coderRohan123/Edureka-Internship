{
 "cells": [
  {
   "cell_type": "code",
   "execution_count": 1,
   "id": "81be2106",
   "metadata": {},
   "outputs": [
    {
     "name": "stdout",
     "output_type": "stream",
     "text": [
      "Enter value of M:5\n",
      "Enter value of N:3\n",
      "Enter value of A:2\n",
      "Enter elements of first array\n",
      "1\n",
      "2\n",
      "3\n",
      "4\n",
      "5\n",
      "6\n",
      "7\n",
      "8\n",
      "9\n",
      "10\n",
      "11\n",
      "12\n",
      "13\n",
      "141\n",
      "15\n",
      "Enter elements of second array\n",
      "12\n",
      "13\n",
      "23\n",
      "24\n",
      "24\n",
      "23\n",
      "FIRST ARRAY:\n",
      " [[  1   2   3]\n",
      " [  4   5   6]\n",
      " [  7   8   9]\n",
      " [ 10  11  12]\n",
      " [ 13 141  15]]\n",
      "SECOND ARRAY:\n",
      " [[12 13]\n",
      " [23 24]\n",
      " [24 23]]\n",
      "DOT PRODUCT OF TWO ARRAYS:\n",
      " [[ 130  130]\n",
      " [ 307  310]\n",
      " [ 484  490]\n",
      " [ 661  670]\n",
      " [3759 3898]]\n"
     ]
    }
   ],
   "source": [
    "#PROGRAM 1\n",
    "import numpy as np\n",
    "lst=[]\n",
    "lst1=[]\n",
    "m=int(input(\"Enter value of M:\"))\n",
    "n=int(input(\"Enter value of N:\"))\n",
    "a=int(input(\"Enter value of A:\"))\n",
    "p=m*n\n",
    "q=n*a\n",
    "print(\"Enter elements of first array\")\n",
    "for i in range(0,p):\n",
    "    ele=int(input())\n",
    "    lst.append(ele)\n",
    "d=np.array(lst).reshape(m,n)\n",
    "print(\"Enter elements of second array\")\n",
    "for j in range(0,q):\n",
    "    ele1=int(input())\n",
    "    lst1.append(ele1)\n",
    "c=np.array(lst1).reshape(n,a)\n",
    "print(\"FIRST ARRAY:\\n\",d)\n",
    "print(\"SECOND ARRAY:\\n\",c)\n",
    "print(\"DOT PRODUCT OF TWO ARRAYS:\\n\",np.dot(d,c))\n",
    "\n",
    "\n"
   ]
  },
  {
   "cell_type": "code",
   "execution_count": null,
   "id": "c58223db",
   "metadata": {},
   "outputs": [],
   "source": []
  }
 ],
 "metadata": {
  "kernelspec": {
   "display_name": "Python 3 (ipykernel)",
   "language": "python",
   "name": "python3"
  },
  "language_info": {
   "codemirror_mode": {
    "name": "ipython",
    "version": 3
   },
   "file_extension": ".py",
   "mimetype": "text/x-python",
   "name": "python",
   "nbconvert_exporter": "python",
   "pygments_lexer": "ipython3",
   "version": "3.9.12"
  }
 },
 "nbformat": 4,
 "nbformat_minor": 5
}

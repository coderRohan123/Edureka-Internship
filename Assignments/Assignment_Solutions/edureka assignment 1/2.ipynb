{
 "cells": [
  {
   "cell_type": "code",
   "execution_count": 17,
   "id": "5c58a43a",
   "metadata": {},
   "outputs": [
    {
     "name": "stdout",
     "output_type": "stream",
     "text": [
      "python php js example html5 5\n",
      "['python', 'php', 'js', 'example', 'html5', '5']\n",
      "ORIGINAL ARRAY:\n",
      " ['python' 'php' 'js' 'example' 'html5' '5']\n",
      "DIGITS ONLY:\n",
      ": [False False False False False  True]\n",
      "LOWER CASE ONLY:\n",
      " [ True  True  True  True  True False]\n",
      "UPPER CASE ONLY:\n",
      " [False False False False False False]\n"
     ]
    }
   ],
   "source": [
    "#Program 2\n",
    "import numpy as np\n",
    "a=list(input().split())\n",
    "print(a)\n",
    "b=np.array(a)\n",
    "print(\"ORIGINAL ARRAY:\\n\",b)\n",
    "r=np.char.isdigit(b)\n",
    "print(\"DIGITS ONLY:\\n:\",r)\n",
    "s=np.char.islower(b)\n",
    "print(\"LOWER CASE ONLY:\\n\",s)\n",
    "p=np.char.isupper(b)\n",
    "print(\"UPPER CASE ONLY:\\n\",p)\n",
    "\n",
    "\n",
    "\n",
    "\n",
    "\n"
   ]
  },
  {
   "cell_type": "code",
   "execution_count": null,
   "id": "b00654e0",
   "metadata": {},
   "outputs": [],
   "source": []
  },
  {
   "cell_type": "code",
   "execution_count": null,
   "id": "8a63662a",
   "metadata": {},
   "outputs": [],
   "source": []
  }
 ],
 "metadata": {
  "kernelspec": {
   "display_name": "Python 3 (ipykernel)",
   "language": "python",
   "name": "python3"
  },
  "language_info": {
   "codemirror_mode": {
    "name": "ipython",
    "version": 3
   },
   "file_extension": ".py",
   "mimetype": "text/x-python",
   "name": "python",
   "nbconvert_exporter": "python",
   "pygments_lexer": "ipython3",
   "version": "3.9.12"
  }
 },
 "nbformat": 4,
 "nbformat_minor": 5
}

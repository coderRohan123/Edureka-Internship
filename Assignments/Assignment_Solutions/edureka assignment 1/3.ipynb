{
 "cells": [
  {
   "cell_type": "code",
   "execution_count": 23,
   "id": "11419500",
   "metadata": {},
   "outputs": [
    {
     "name": "stdout",
     "output_type": "stream",
     "text": [
      "7\n",
      "9\n",
      "FIRST ARRAY\n",
      " [[  1   8  15  22]\n",
      " [ 29  36  43  50]\n",
      " [ 57  64  71  78]\n",
      " [ 85  92  99 106]]\n",
      "SECOND ARRAY\n",
      " [[  1  10  19  28]\n",
      " [ 37  46  55  64]\n",
      " [ 73  82  91 100]\n",
      " [109 118 127 136]]\n",
      "SUBTRACTED ARRAY\n",
      " [[  0  -2  -4  -6]\n",
      " [ -8 -10 -12 -14]\n",
      " [-16 -18 -20 -22]\n",
      " [-24 -26 -28 -30]]\n",
      "FLATTENED ARRAY\n",
      " [  0  -2  -4  -6  -8 -10 -12 -14 -16 -18 -20 -22 -24 -26 -28 -30]\n"
     ]
    }
   ],
   "source": [
    "#Program 3\n",
    "import numpy as np\n",
    "a=int(input())\n",
    "b=int(input())\n",
    "x=np.arange(1,a*16,a)#a*16 since in 4,4 matrix there will be 16 elements so the end number will be within it with step of a\n",
    "y=np.arange(1,b*16,b)\n",
    "r=x.reshape(4,4)\n",
    "p=y.reshape(4,4)\n",
    "s=r-p\n",
    "print(\"FIRST ARRAY\\n\",r)\n",
    "print(\"SECOND ARRAY\\n\",p)\n",
    "print(\"SUBTRACTED ARRAY\\n\",s)\n",
    "print(\"FLATTENED ARRAY\\n\",s.flatten())"
   ]
  },
  {
   "cell_type": "code",
   "execution_count": null,
   "id": "1ef25848",
   "metadata": {},
   "outputs": [],
   "source": []
  }
 ],
 "metadata": {
  "kernelspec": {
   "display_name": "Python 3 (ipykernel)",
   "language": "python",
   "name": "python3"
  },
  "language_info": {
   "codemirror_mode": {
    "name": "ipython",
    "version": 3
   },
   "file_extension": ".py",
   "mimetype": "text/x-python",
   "name": "python",
   "nbconvert_exporter": "python",
   "pygments_lexer": "ipython3",
   "version": "3.9.12"
  }
 },
 "nbformat": 4,
 "nbformat_minor": 5
}
